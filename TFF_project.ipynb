{
 "cells": [
  {
   "cell_type": "markdown",
   "metadata": {},
   "source": [
    "# S1 - Federated Learning for IoT and Smart Cities\n",
    "\n",
    "## Code Structure\n",
    "\n",
    "1. Setup enviroment by importing libs and dataset\n",
    "2. Preprocess the data by\n",
    "- Flatten the data\n",
    "- Selects clients (if needed)\n",
    "- Batch and create dict\n",
    "3. Prepare the model\n",
    "- Keras model \n",
    "- Create layers\n",
    "- Cast keras model to tff-model\n",
    "4. Build and test FL algorithm\n",
    "- Initialization of model on server.\n",
    "Then as a \"loop\" :\n",
    "- server-to-client broadcast step.\n",
    "- local client update step.\n",
    "- client-to-server upload step.\n",
    "- server update step"
   ]
  },
  {
   "cell_type": "markdown",
   "metadata": {},
   "source": [
    "### 1. Setup enviroment & load dataset"
   ]
  },
  {
   "cell_type": "code",
   "execution_count": 1,
   "metadata": {},
   "outputs": [],
   "source": [
    "#Reset all variables from previous run\n",
    "%reset -f"
   ]
  },
  {
   "cell_type": "markdown",
   "metadata": {},
   "source": [
    "Import libraries"
   ]
  },
  {
   "cell_type": "code",
   "execution_count": 2,
   "metadata": {},
   "outputs": [
    {
     "name": "stderr",
     "output_type": "stream",
     "text": [
      "2021-12-08 16:52:42.589871: W tensorflow/stream_executor/platform/default/dso_loader.cc:64] Could not load dynamic library 'libcudart.so.11.0'; dlerror: libcudart.so.11.0: cannot open shared object file: No such file or directory\n",
      "2021-12-08 16:52:42.590033: I tensorflow/stream_executor/cuda/cudart_stub.cc:29] Ignore above cudart dlerror if you do not have a GPU set up on your machine.\n"
     ]
    }
   ],
   "source": [
    "#Import pyplot for plotting evaluation of model\n",
    "from matplotlib import pyplot\n",
    "import nest_asyncio\n",
    "import numpy as np\n",
    "import tensorflow as tf\n",
    "import tensorflow_federated as tff # this might register as non-resolved but seems to work\n",
    "\n",
    "#Set seed for randomizer, to get consistent results over multiple runs (TEST IF THIS WORKS!?)\n",
    "np.random.seed(0)\n",
    "nest_asyncio.apply()\n",
    "\n",
    "# # Test code for checking that tff loaded properly\n",
    "# tff.federated_computation(lambda: 'Hello, World!')()"
   ]
  },
  {
   "cell_type": "markdown",
   "metadata": {},
   "source": [
    "Load the EMNIST data set of 3383 users, split into training and test sets.\n",
    "\n",
    "The data split is approximately 89,3 % training and 10,7% test. (341 873 vs 40 832 examples, to be exact)"
   ]
  },
  {
   "cell_type": "code",
   "execution_count": 3,
   "metadata": {},
   "outputs": [
    {
     "name": "stderr",
     "output_type": "stream",
     "text": [
      "2021-12-08 16:52:48.003024: W tensorflow/stream_executor/platform/default/dso_loader.cc:64] Could not load dynamic library 'libcuda.so.1'; dlerror: libcuda.so.1: cannot open shared object file: No such file or directory\n",
      "2021-12-08 16:52:48.003159: W tensorflow/stream_executor/cuda/cuda_driver.cc:326] failed call to cuInit: UNKNOWN ERROR (303)\n",
      "2021-12-08 16:52:48.003908: I tensorflow/stream_executor/cuda/cuda_diagnostics.cc:156] kernel driver does not appear to be running on this host (LAPTOP-5B2NUIL3): /proc/driver/nvidia/version does not exist\n",
      "2021-12-08 16:52:48.007708: I tensorflow/core/platform/cpu_feature_guard.cc:142] This TensorFlow binary is optimized with oneAPI Deep Neural Network Library (oneDNN) to use the following CPU instructions in performance-critical operations:  AVX2 FMA\n",
      "To enable them in other operations, rebuild TensorFlow with the appropriate compiler flags.\n"
     ]
    }
   ],
   "source": [
    "#Load EMNIST dataset of 3383 users \n",
    "# (OBS! 'dummy' is not used in code, only there since the load_data function always returns a tuple)\n",
    "emnist_dataset, dummy = tff.simulation.datasets.emnist.load_data()"
   ]
  },
  {
   "cell_type": "markdown",
   "metadata": {},
   "source": [
    "### 2. Process the data\n",
    "\n",
    "Set some model parameters"
   ]
  },
  {
   "cell_type": "code",
   "execution_count": 4,
   "metadata": {},
   "outputs": [],
   "source": [
    "#How many of the 3383 clients to use for training and testing, respectively\n",
    "NUM_TRAIN_CLIENTS = 90\n",
    "NUM_TEST_CLIENTS = 10\n",
    "#The batch size used in training\n",
    "BATCH_SIZE = 10\n",
    "#Number of rounds to run the algorithm\n",
    "ROUNDS = 100\n"
   ]
  },
  {
   "cell_type": "markdown",
   "metadata": {},
   "source": [
    "Flatten batches of data, and conver to a tuple (flattened_image_vector, label)"
   ]
  },
  {
   "cell_type": "code",
   "execution_count": 5,
   "metadata": {},
   "outputs": [],
   "source": [
    "# Function for preprocessing the dataset\n",
    "def preprocess(dataset):\n",
    "  # Function for flattening a batch of EMNIST data, and returning a (features, label) tuple\n",
    "  def batch_format_fn(element):\n",
    "    return (tf.reshape(element['pixels'], [-1, 784]), \n",
    "            tf.reshape(element['label'], [-1, 1]))\n",
    "  #Return flattened and batched data\n",
    "  return dataset.batch(BATCH_SIZE).map(batch_format_fn)"
   ]
  },
  {
   "cell_type": "markdown",
   "metadata": {},
   "source": [
    "Split clients into separate train and test groups, and then load data for these groups"
   ]
  },
  {
   "cell_type": "code",
   "execution_count": 6,
   "metadata": {},
   "outputs": [
    {
     "name": "stderr",
     "output_type": "stream",
     "text": [
      "2021-12-08 16:52:48.399886: I tensorflow/compiler/mlir/mlir_graph_optimization_pass.cc:176] None of the MLIR Optimization Passes are enabled (registered 2)\n",
      "2021-12-08 16:52:48.409230: I tensorflow/core/platform/profile_utils/cpu_utils.cc:114] CPU Frequency: 1799995000 Hz\n"
     ]
    }
   ],
   "source": [
    "#Split the clients into train and test groups, with no overlap\n",
    "training_dataset, test_dataset = emnist_dataset.train_test_client_split(client_data=emnist_dataset, num_test_clients=NUM_TEST_CLIENTS)\n",
    "\n",
    "#Store the client IDs of the clients to be used for training\n",
    "client_ids_train = sorted(training_dataset.client_ids)[:NUM_TRAIN_CLIENTS]\n",
    "\n",
    "#Create training data by preprocessing dataset for clients in training set\n",
    "federated_train_data = [preprocess(emnist_dataset.create_tf_dataset_for_client(x))\n",
    "  for x in client_ids_train\n",
    "]\n",
    "\n",
    "#Create central evaluation dataset by preprocessing a single dataset for all clients in test set \n",
    "central_emnist_test = test_dataset.create_tf_dataset_from_all_clients()\n",
    "central_emnist_test = preprocess(central_emnist_test)"
   ]
  },
  {
   "cell_type": "markdown",
   "metadata": {},
   "source": [
    "## 3. Preparing the model"
   ]
  },
  {
   "cell_type": "markdown",
   "metadata": {},
   "source": [
    "Create a keras ML model, with one hidden layer and a softmax layer"
   ]
  },
  {
   "cell_type": "code",
   "execution_count": 7,
   "metadata": {},
   "outputs": [],
   "source": [
    "#Function for creating a keras model\n",
    "def create_keras_model():\n",
    "  initializer = tf.keras.initializers.GlorotNormal(seed=0)\n",
    "  #Return the model\n",
    "  return tf.keras.models.Sequential([\n",
    "      #Input layer matches the number of pixels of images\n",
    "      tf.keras.layers.InputLayer(input_shape=(784,)),\n",
    "      tf.keras.layers.Dense(10, kernel_initializer=initializer),\n",
    "      #Softmax layer used to calculate what number is most likely\n",
    "      tf.keras.layers.Softmax(),\n",
    "  ])"
   ]
  },
  {
   "cell_type": "markdown",
   "metadata": {},
   "source": [
    "Wrap this model as a 'tff.learning.Model' for use in Tensorflow Federated"
   ]
  },
  {
   "cell_type": "code",
   "execution_count": 8,
   "metadata": {},
   "outputs": [],
   "source": [
    "#Function for creating a TFF model\n",
    "def model_fn():\n",
    "  #Call on function for creating a keras model\n",
    "  keras_model = create_keras_model()\n",
    "  \n",
    "  #Create a TFF model from this keras model, and return it\n",
    "  return tff.learning.from_keras_model(\n",
    "      keras_model,\n",
    "      input_spec=federated_train_data[0].element_spec,\n",
    "      loss=tf.keras.losses.SparseCategoricalCrossentropy(),\n",
    "      metrics=[tf.keras.metrics.SparseCategoricalAccuracy()])"
   ]
  },
  {
   "cell_type": "markdown",
   "metadata": {},
   "source": [
    "## 4. Building our own FL algorithm"
   ]
  },
  {
   "cell_type": "markdown",
   "metadata": {},
   "source": [
    "### 4.2 Client update step\n",
    "\n",
    "Function for performing a client update"
   ]
  },
  {
   "cell_type": "code",
   "execution_count": 9,
   "metadata": {},
   "outputs": [],
   "source": [
    "#TF function for performing a client update (Is in the code called by client_update_fn)\n",
    "@tf.function\n",
    "def client_update(model, dataset, server_weights, client_optimizer):\n",
    "  \"\"\"Performs training (using the server model weights) on the client's dataset.\"\"\"\n",
    "  # Initialize the client model with the current server weights.\n",
    "  client_weights = model.trainable_variables\n",
    "  # Assign the server weights to the client model.\n",
    "  tf.nest.map_structure(lambda x, y: x.assign(y), client_weights, server_weights)\n",
    "\n",
    "  # Use the client_optimizer to update the local model.\n",
    "  for batch in dataset:\n",
    "    with tf.GradientTape() as tape:\n",
    "      # Compute a forward pass on the batch of data\n",
    "      outputs = model.forward_pass(batch)\n",
    "\n",
    "    # Compute the corresponding gradient\n",
    "    grads = tape.gradient(outputs.loss, client_weights)\n",
    "    grads_and_vars = zip(grads, client_weights)\n",
    "\n",
    "    # Apply the gradient using a client optimizer.\n",
    "    client_optimizer.apply_gradients(grads_and_vars)\n",
    "  #Return the new weights of the client model\n",
    "  return client_weights"
   ]
  },
  {
   "cell_type": "markdown",
   "metadata": {},
   "source": [
    "### 4.4 Server update step"
   ]
  },
  {
   "cell_type": "markdown",
   "metadata": {},
   "source": [
    "A simple \"FedAvd\" update (aka \"vanilla FL\")"
   ]
  },
  {
   "cell_type": "code",
   "execution_count": 10,
   "metadata": {},
   "outputs": [],
   "source": [
    "# TF function for perfoming a server update (Is in the code called by server_update_fn)\n",
    "@tf.function\n",
    "def server_update(model, mean_client_weights):\n",
    "  \"\"\"Updates the server model weights as the average of the client model weights.\"\"\"\n",
    "  model_weights = model.trainable_variables\n",
    "  # Assign the mean client weights to the server model.\n",
    "  tf.nest.map_structure(lambda x, y: x.assign(y), model_weights, mean_client_weights)\n",
    "  return model_weights"
   ]
  },
  {
   "cell_type": "markdown",
   "metadata": {},
   "source": [
    "### Federated core\n",
    "\n",
    "In summary:\n",
    "\n",
    "TFF operates on federated values.\n",
    "Each federated value has a federated type, with a type (eg. tf.float32) and a placement (eg. tff.CLIENTS).\n",
    "Federated values can be transformed using federated computations, which must be decorated with tff.federated_computation and a federated type signature.\n",
    "TensorFlow code must be contained in blocks with tff.tf_computation decorators.\n",
    "These blocks can then be incorporated into federated computations."
   ]
  },
  {
   "cell_type": "markdown",
   "metadata": {},
   "source": [
    "## 5."
   ]
  },
  {
   "cell_type": "markdown",
   "metadata": {},
   "source": [
    "Creating a 'tf computation' and a 'federated computation' to initialize the model on the server.\n",
    "(The latter makes use of the former)"
   ]
  },
  {
   "cell_type": "code",
   "execution_count": 11,
   "metadata": {},
   "outputs": [],
   "source": [
    "#tf_computation for initializing the model\n",
    "@tff.tf_computation\n",
    "def server_init():\n",
    "  model = model_fn()\n",
    "  return model.trainable_variables\n",
    "\n",
    "#federated_computation for initializing the model (Calls on the above created server_init)\n",
    "@tff.federated_computation\n",
    "def initialize_fn():\n",
    "  return tff.federated_value(server_init(), tff.SERVER)"
   ]
  },
  {
   "cell_type": "markdown",
   "metadata": {},
   "source": [
    "### Client update"
   ]
  },
  {
   "cell_type": "markdown",
   "metadata": {},
   "source": [
    "Get datatype of dataset and model weights"
   ]
  },
  {
   "cell_type": "code",
   "execution_count": 12,
   "metadata": {},
   "outputs": [],
   "source": [
    "# Create a temporary model\n",
    "whimsy_model = model_fn()\n",
    "# Use temporary model to see what datatypes the dataset and model weights will be\n",
    "tf_dataset_type = tff.SequenceType(whimsy_model.input_spec)\n",
    "model_weights_type = server_init.type_signature.result"
   ]
  },
  {
   "cell_type": "markdown",
   "metadata": {},
   "source": [
    "Create a (tf computation) function for performing a client update, using SGD"
   ]
  },
  {
   "cell_type": "code",
   "execution_count": 13,
   "metadata": {},
   "outputs": [],
   "source": [
    "# Function for client update\n",
    "@tff.tf_computation(tf_dataset_type, model_weights_type)\n",
    "def client_update_fn(tf_dataset, server_weights):\n",
    "  #Create a model to perform training on\n",
    "  model = model_fn()\n",
    "  #Create a SGD optimizer, with learning rate = 0.01\n",
    "  client_optimizer = tf.keras.optimizers.SGD(learning_rate=0.01)\n",
    "  \n",
    "  #Perform the client update (using a previously defined function), and return the resulting client weights\n",
    "  return client_update(model, tf_dataset, server_weights, client_optimizer)"
   ]
  },
  {
   "cell_type": "markdown",
   "metadata": {},
   "source": [
    "\n",
    "Create a (tf computation) function for performing the server update, using FedAvg"
   ]
  },
  {
   "cell_type": "code",
   "execution_count": 14,
   "metadata": {},
   "outputs": [],
   "source": [
    "#Function for server update\n",
    "@tff.tf_computation(model_weights_type)\n",
    "def server_update_fn(mean_client_weights):\n",
    "  #Create a model\n",
    "  model = model_fn()\n",
    "\n",
    "  #Perform the server update with FedAvg (using a previously defined function), and return the updated model weights\n",
    "  return server_update(model, mean_client_weights)"
   ]
  },
  {
   "cell_type": "markdown",
   "metadata": {},
   "source": [
    "Create a function for iterating one step in the FL algorithm."
   ]
  },
  {
   "cell_type": "code",
   "execution_count": 15,
   "metadata": {},
   "outputs": [],
   "source": [
    "#Create federated types for server and clients, used to define input data type for federated computation below\n",
    "federated_server_type = tff.FederatedType(model_weights_type, tff.SERVER)\n",
    "federated_dataset_type = tff.FederatedType(tf_dataset_type, tff.CLIENTS)\n",
    "\n",
    "#Function for the four steps to be performed iteratively in the FL algorithm\n",
    "@tff.federated_computation(federated_server_type, federated_dataset_type)\n",
    "def next_fn(server_weights, federated_dataset):\n",
    "\n",
    "  # The server model weights are broadcasted to the clients\n",
    "  server_weights_at_client = tff.federated_broadcast(server_weights)\n",
    "\n",
    "  # Each client computes their updated model weights, using SGD\n",
    "  client_weights = tff.federated_map(\n",
    "      client_update_fn, (federated_dataset, server_weights_at_client))\n",
    "  \n",
    "  # The server calculates the average of the client updates, using FedAvg\n",
    "  mean_client_weights = tff.federated_mean(client_weights)\n",
    "\n",
    "  # The server updates its model with these averaged weights\n",
    "  server_weights = tff.federated_map(server_update_fn, mean_client_weights)\n",
    "  return server_weights"
   ]
  },
  {
   "cell_type": "markdown",
   "metadata": {},
   "source": [
    "Create the federated algorithm, in the form of a tff iterative process"
   ]
  },
  {
   "cell_type": "code",
   "execution_count": 16,
   "metadata": {},
   "outputs": [],
   "source": [
    "#Create the federated algorithm as an \"IterativeProcess\"\n",
    "federated_algorithm = tff.templates.IterativeProcess(\n",
    "    initialize_fn=initialize_fn,\n",
    "    next_fn=next_fn\n",
    ")"
   ]
  },
  {
   "cell_type": "markdown",
   "metadata": {},
   "source": [
    "Create a evaluation function using keras"
   ]
  },
  {
   "cell_type": "code",
   "execution_count": 17,
   "metadata": {},
   "outputs": [],
   "source": [
    "#Function for evaluating the current model, using the test dataset\n",
    "def evaluate(server_state):\n",
    "  #Create a model\n",
    "  keras_model = create_keras_model()\n",
    "  #Define the loss and metrics to be used\n",
    "  keras_model.compile(\n",
    "      loss=tf.keras.losses.SparseCategoricalCrossentropy(),\n",
    "      metrics=[tf.keras.metrics.SparseCategoricalAccuracy()] \n",
    "  )\n",
    "  #Set model to have the weights that the server currently has\n",
    "  keras_model.set_weights(server_state)\n",
    "  #Use model on the test set to evaluate it, and return the results\n",
    "  results = keras_model.evaluate(central_emnist_test)\n",
    "  return results"
   ]
  },
  {
   "cell_type": "markdown",
   "metadata": {},
   "source": [
    "## MAIN LOOP OF THE FL SYSTEM"
   ]
  },
  {
   "cell_type": "code",
   "execution_count": 21,
   "metadata": {},
   "outputs": [
    {
     "name": "stdout",
     "output_type": "stream",
     "text": [
      "104/104 [==============================] - 2s 5ms/step - loss: 2.8378 - sparse_categorical_accuracy: 0.1009\n",
      "104/104 [==============================] - 1s 6ms/step - loss: 2.7364 - sparse_categorical_accuracy: 0.0989\n",
      "104/104 [==============================] - 0s 2ms/step - loss: 2.5147 - sparse_categorical_accuracy: 0.0989\n",
      "104/104 [==============================] - 0s 2ms/step - loss: 2.3177 - sparse_categorical_accuracy: 0.1125\n"
     ]
    },
    {
     "name": "stderr",
     "output_type": "stream",
     "text": [
      "2021-12-08 17:14:04.962965: W tensorflow/core/kernels/data/model_dataset_op.cc:205] Optimization loop failed: Cancelled: Operation was cancelled\n"
     ]
    }
   ],
   "source": [
    "# Initialize FL model\n",
    "server_state = federated_algorithm.initialize()\n",
    "#Evaluate and save the loss of accuracy of the model before training begins\n",
    "results_list = [evaluate(server_state)]\n",
    "\n",
    "# Perform iteration rounds for FL model \n",
    "for round in range(ROUNDS):\n",
    "  server_state = federated_algorithm.next(server_state, federated_train_data)\n",
    "  # Evaluate model accuracy and loss on test data every 10 rounds\n",
    "  if round % 10 == 0:\n",
    "    results_list.append(evaluate(server_state))\n",
    "\n",
    "#Evaluate final state\n",
    "results_list.append(evaluate(server_state))"
   ]
  },
  {
   "cell_type": "code",
   "execution_count": 19,
   "metadata": {},
   "outputs": [],
   "source": [
    "#Convert the list containing evaluation loss and accuracy to a DataFrame\n",
    "import pandas as pd\n",
    "results_df = pd.DataFrame(results_list,columns=['loss','accuracy'])"
   ]
  },
  {
   "cell_type": "markdown",
   "metadata": {},
   "source": [
    "Plot test results in graph"
   ]
  },
  {
   "cell_type": "code",
   "execution_count": 20,
   "metadata": {},
   "outputs": [
    {
     "data": {
      "text/plain": [
       "Text(0.5, 1.0, 'Sparse Categorical Accuracy')"
      ]
     },
     "execution_count": 20,
     "metadata": {},
     "output_type": "execute_result"
    },
    {
     "data": {
      "image/png": "[encoded data removed]",
      "text/plain": [
       "<Figure size 432x288 with 1 Axes>"
      ]
     },
     "metadata": {
      "needs_background": "light"
     },
     "output_type": "display_data"
    },
    {
     "data": {
      "image/png": "[encoded data removed]",
      "text/plain": [
       "<Figure size 432x288 with 1 Axes>"
      ]
     },
     "metadata": {
      "needs_background": "light"
     },
     "output_type": "display_data"
    }
   ],
   "source": [
    "#Create plot for loss\n",
    "fig_loss, ax_loss = pyplot.subplots()\n",
    "ax_loss.plot(results_df.loss)\n",
    "ax_loss.set_title('Loss')\n",
    "\n",
    "#Create plot for sparse categorical accuracy\n",
    "fig_acc, ax_acc = pyplot.subplots()\n",
    "ax_acc.plot(results_df.accuracy)\n",
    "ax_acc.set_title('Sparse Categorical Accuracy')"
   ]
  }
 ],
 "metadata": {
  "interpreter": {
   "hash": "916dbcbb3f70747c44a77c7bcd40155683ae19c65e1c03b4aa3499c5328201f1"
  },
  "kernelspec": {
   "display_name": "Python 3.8.10 64-bit",
   "language": "python",
   "name": "python3"
  },
  "language_info": {
   "codemirror_mode": {
    "name": "ipython",
    "version": 3
   },
   "file_extension": ".py",
   "mimetype": "text/x-python",
   "name": "python",
   "nbconvert_exporter": "python",
   "pygments_lexer": "ipython3",
   "version": "3.8.10"
  },
  "orig_nbformat": 4
 },
 "nbformat": 4,
 "nbformat_minor": 2
}
