{
 "cells": [
  {
   "cell_type": "markdown",
   "metadata": {},
   "source": [
    "# S1 - Federated Learning for IoT and Smart Cities\n",
    "\n",
    "## Code Structure\n",
    "\n",
    "1. Setup enviroment by importing libs and dataset\n",
    "2. Preprocess the data by\n",
    "- Flatten the data\n",
    "- Selects clients (if needed)\n",
    "- Batch and create dict\n",
    "3. Prepare the model\n",
    "- Keras model \n",
    "- Create layers\n",
    "- Cast keras model to tff-model\n",
    "4. Build and test FL algorithm\n",
    "- Initialization of model on server.\n",
    "Then as a \"loop\" :\n",
    "- server-to-client broadcast step.\n",
    "- local client update step.\n",
    "- client-to-server upload step.\n",
    "- server update step"
   ]
  },
  {
   "cell_type": "code",
   "execution_count": null,
   "metadata": {},
   "outputs": [],
   "source": []
  }
 ],
 "metadata": {
  "interpreter": {
   "hash": "916dbcbb3f70747c44a77c7bcd40155683ae19c65e1c03b4aa3499c5328201f1"
  },
  "kernelspec": {
   "display_name": "Python 3.8.10 64-bit",
   "language": "python",
   "name": "python3"
  },
  "language_info": {
   "name": "python",
   "version": "3.8.10"
  },
  "orig_nbformat": 4
 },
 "nbformat": 4,
 "nbformat_minor": 2
}
