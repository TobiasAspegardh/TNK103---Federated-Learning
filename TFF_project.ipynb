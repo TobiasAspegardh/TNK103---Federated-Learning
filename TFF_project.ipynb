{
 "cells": [
  {
   "cell_type": "markdown",
   "metadata": {},
   "source": [
    "# S1 - Federated Learning for IoT and Smart Cities\n",
    "\n",
    "## Code Structure\n",
    "\n",
    "1. Setup enviroment by importing libs and dataset\n",
    "2. Preprocess the data by\n",
    "- Flatten the data\n",
    "- Selects clients (if needed)\n",
    "- Batch and create dict\n",
    "3. Prepare the model\n",
    "- Keras model \n",
    "- Create layers\n",
    "- Cast keras model to tff-model\n",
    "4. Build and test FL algorithm\n",
    "- Initialization of model on server.\n",
    "Then as a \"loop\" :\n",
    "- server-to-client broadcast step.\n",
    "- local client update step.\n",
    "- client-to-server upload step.\n",
    "- server update step"
   ]
  },
  {
   "cell_type": "markdown",
   "metadata": {},
   "source": [
    "### 1. Setup enviroment & load dataset"
   ]
  },
  {
   "cell_type": "code",
   "execution_count": 29,
   "metadata": {},
   "outputs": [],
   "source": [
    "#Reset all variables from previous run\n",
    "%reset -f\n",
    "#Import pyplot for plotting evaluation of model\n",
    "from matplotlib import pyplot"
   ]
  },
  {
   "cell_type": "code",
   "execution_count": 30,
   "metadata": {},
   "outputs": [
    {
     "data": {
      "text/plain": [
       "b'Hello, World!'"
      ]
     },
     "execution_count": 30,
     "metadata": {},
     "output_type": "execute_result"
    }
   ],
   "source": [
    "import nest_asyncio\n",
    "import collections\n",
    "import numpy as np\n",
    "import tensorflow as tf\n",
    "import tensorflow_federated as tff # this might register as non-resolved but seems to work\n",
    "np.random.seed(0)\n",
    "nest_asyncio.apply()\n",
    "# check if tff works correctly\n",
    "tff.federated_computation(lambda: 'Hello, World!')()"
   ]
  },
  {
   "cell_type": "markdown",
   "metadata": {},
   "source": [
    "Load the EMNIST data set of 3383 users, split into training and test sets.\n",
    "\n",
    "The data split is approximately 89,3 % training and 10,7% test. (341 873 vs 40 832 examples, to be exact)"
   ]
  },
  {
   "cell_type": "code",
   "execution_count": 31,
   "metadata": {},
   "outputs": [],
   "source": [
    "#Load EMNIST dataset\n",
    "emnist_dataset, dummy = tff.simulation.datasets.emnist.load_data()"
   ]
  },
  {
   "cell_type": "markdown",
   "metadata": {},
   "source": [
    "### 2. Process the data"
   ]
  },
  {
   "cell_type": "code",
   "execution_count": 32,
   "metadata": {},
   "outputs": [],
   "source": [
    "#How many of the 3383 clients to use for training and testing, respectively\n",
    "NUM_TRAIN_CLIENTS = 250\n",
    "NUM_TEST_CLIENTS = 50\n",
    "#The batch size used in training\n",
    "BATCH_SIZE = 5\n",
    "#Number of rounds to run the algorithm\n",
    "ROUNDS = 100\n"
   ]
  },
  {
   "cell_type": "markdown",
   "metadata": {},
   "source": [
    "Flatten batches of data, and conver to a tuple (flattened_image_vector, label)"
   ]
  },
  {
   "cell_type": "code",
   "execution_count": 33,
   "metadata": {},
   "outputs": [],
   "source": [
    "def preprocess(dataset):\n",
    "\n",
    "  def batch_format_fn(element):\n",
    "    \"\"\"Flatten a batch of EMNIST data and return a (features, label) tuple.\"\"\"\n",
    "    return (tf.reshape(element['pixels'], [-1, 784]), \n",
    "            tf.reshape(element['label'], [-1, 1]))\n",
    "\n",
    "  return dataset.batch(BATCH_SIZE).map(batch_format_fn)"
   ]
  },
  {
   "cell_type": "markdown",
   "metadata": {},
   "source": [
    "Select a small subset of clients, and apply the above created preprocessing to them"
   ]
  },
  {
   "cell_type": "code",
   "execution_count": 34,
   "metadata": {},
   "outputs": [],
   "source": [
    "#Split clients into train and test groups \n",
    "training_dataset, test_dataset = emnist_dataset.train_test_client_split(client_data=emnist_dataset,num_test_clients=NUM_TEST_CLIENTS)\n",
    "\n",
    "#Define the client IDs of the clients to be used for training and testing\n",
    "client_ids_train = sorted(training_dataset.client_ids)[:NUM_TRAIN_CLIENTS]\n",
    "\n",
    "#Create training data by preprocessing dataset for clients in training set\n",
    "federated_train_data = [preprocess(emnist_dataset.create_tf_dataset_for_client(x))\n",
    "  for x in client_ids_train\n",
    "]\n",
    "\n",
    "#Create central evaluation dataset by preprocessing a single dataset for all clients in test set \n",
    "central_emnist_test = test_dataset.create_tf_dataset_from_all_clients()\n",
    "central_emnist_test = preprocess(central_emnist_test)"
   ]
  },
  {
   "cell_type": "markdown",
   "metadata": {},
   "source": [
    "## 3. Preparing the model"
   ]
  },
  {
   "cell_type": "markdown",
   "metadata": {},
   "source": [
    "Create a keras ML model, with one hidden layer and a softmax layer"
   ]
  },
  {
   "cell_type": "code",
   "execution_count": 35,
   "metadata": {},
   "outputs": [],
   "source": [
    "def create_keras_model():\n",
    "  initializer = tf.keras.initializers.GlorotNormal(seed=0)\n",
    "  #Create keras model, and return\n",
    "  return tf.keras.models.Sequential([\n",
    "      tf.keras.layers.InputLayer(input_shape=(784,)),\n",
    "      tf.keras.layers.Dense(10, kernel_initializer=initializer),\n",
    "      tf.keras.layers.Softmax(),\n",
    "  ])"
   ]
  },
  {
   "cell_type": "markdown",
   "metadata": {},
   "source": [
    "Wrap this model as a 'tff.learning.Model' for use in Tensorflow Federated"
   ]
  },
  {
   "cell_type": "code",
   "execution_count": 36,
   "metadata": {},
   "outputs": [],
   "source": [
    "def model_fn():\n",
    "  #Call on function for creating a keras moedl\n",
    "  keras_model = create_keras_model()\n",
    "  \n",
    "  #Convert to TFF model, and return\n",
    "  return tff.learning.from_keras_model(\n",
    "      keras_model,\n",
    "      input_spec=federated_train_data[0].element_spec,\n",
    "      loss=tf.keras.losses.SparseCategoricalCrossentropy(),\n",
    "      metrics=[tf.keras.metrics.SparseCategoricalAccuracy()])"
   ]
  },
  {
   "cell_type": "markdown",
   "metadata": {},
   "source": [
    "## 4. Building our own FL algorithm"
   ]
  },
  {
   "cell_type": "markdown",
   "metadata": {},
   "source": [
    "Create functions for initializing the server (initialize_fn), as well as performing one round of communication in the FL algorithm (next_fn)"
   ]
  },
  {
   "cell_type": "markdown",
   "metadata": {},
   "source": [
    "### 4.2 Client update step"
   ]
  },
  {
   "cell_type": "markdown",
   "metadata": {},
   "source": [
    "Gradient descent(?)"
   ]
  },
  {
   "cell_type": "code",
   "execution_count": 37,
   "metadata": {},
   "outputs": [],
   "source": [
    "@tf.function\n",
    "def client_update(model, dataset, server_weights, client_optimizer):\n",
    "  \"\"\"Performs training (using the server model weights) on the client's dataset.\"\"\"\n",
    "  # Initialize the client model with the current server weights.\n",
    "  client_weights = model.trainable_variables\n",
    "  # Assign the server weights to the client model.\n",
    "  tf.nest.map_structure(lambda x, y: x.assign(y), client_weights, server_weights)\n",
    "\n",
    "  # Use the client_optimizer to update the local model.\n",
    "  for batch in dataset:\n",
    "    with tf.GradientTape() as tape:\n",
    "      # Compute a forward pass on the batch of data\n",
    "      outputs = model.forward_pass(batch)\n",
    "\n",
    "    # Compute the corresponding gradient\n",
    "    grads = tape.gradient(outputs.loss, client_weights)\n",
    "    grads_and_vars = zip(grads, client_weights)\n",
    "\n",
    "    # Apply the gradient using a client optimizer.\n",
    "    client_optimizer.apply_gradients(grads_and_vars)\n",
    "\n",
    "  return client_weights"
   ]
  },
  {
   "cell_type": "markdown",
   "metadata": {},
   "source": [
    "### 4.4 Server update step"
   ]
  },
  {
   "cell_type": "markdown",
   "metadata": {},
   "source": [
    "A simple \"FedAvd\" update (aka \"vanilla FL\")"
   ]
  },
  {
   "cell_type": "code",
   "execution_count": 38,
   "metadata": {},
   "outputs": [],
   "source": [
    "@tf.function\n",
    "def server_update(model, mean_client_weights):\n",
    "  \"\"\"Updates the server model weights as the average of the client model weights.\"\"\"\n",
    "  model_weights = model.trainable_variables\n",
    "  # Assign the mean client weights to the server model.\n",
    "  tf.nest.map_structure(lambda x, y: x.assign(y), model_weights, mean_client_weights)\n",
    "  return model_weights"
   ]
  },
  {
   "cell_type": "markdown",
   "metadata": {},
   "source": [
    "### Federated core\n",
    "\n",
    "In summary:\n",
    "\n",
    "TFF operates on federated values.\n",
    "Each federated value has a federated type, with a type (eg. tf.float32) and a placement (eg. tff.CLIENTS).\n",
    "Federated values can be transformed using federated computations, which must be decorated with tff.federated_computation and a federated type signature.\n",
    "TensorFlow code must be contained in blocks with tff.tf_computation decorators.\n",
    "These blocks can then be incorporated into federated computations."
   ]
  },
  {
   "cell_type": "markdown",
   "metadata": {},
   "source": [
    "## 5."
   ]
  },
  {
   "cell_type": "markdown",
   "metadata": {},
   "source": [
    "Create tf_computation for initializing the model."
   ]
  },
  {
   "cell_type": "code",
   "execution_count": 39,
   "metadata": {},
   "outputs": [],
   "source": [
    "@tff.tf_computation\n",
    "def server_init():\n",
    "  model = model_fn()\n",
    "  return model.trainable_variables"
   ]
  },
  {
   "cell_type": "markdown",
   "metadata": {},
   "source": [
    "Create federated computation to call server_init"
   ]
  },
  {
   "cell_type": "code",
   "execution_count": 40,
   "metadata": {},
   "outputs": [],
   "source": [
    "@tff.federated_computation\n",
    "def initialize_fn():\n",
    "  return tff.federated_value(server_init(), tff.SERVER)"
   ]
  },
  {
   "cell_type": "markdown",
   "metadata": {},
   "source": [
    "### Client update"
   ]
  },
  {
   "cell_type": "markdown",
   "metadata": {},
   "source": [
    "Get datatype of dataset and model weights"
   ]
  },
  {
   "cell_type": "code",
   "execution_count": 41,
   "metadata": {},
   "outputs": [],
   "source": [
    "# \n",
    "whimsy_model = model_fn()\n",
    "tf_dataset_type = tff.SequenceType(whimsy_model.input_spec)\n",
    "model_weights_type = server_init.type_signature.result"
   ]
  },
  {
   "cell_type": "markdown",
   "metadata": {},
   "source": [
    "Declare tff function for client update with keras gradient descent"
   ]
  },
  {
   "cell_type": "code",
   "execution_count": 42,
   "metadata": {},
   "outputs": [],
   "source": [
    "@tff.tf_computation(tf_dataset_type, model_weights_type)\n",
    "def client_update_fn(tf_dataset, server_weights):\n",
    "  model = model_fn()\n",
    "  client_optimizer = tf.keras.optimizers.SGD(learning_rate=0.01)\n",
    "  return client_update(model, tf_dataset, server_weights, client_optimizer)"
   ]
  },
  {
   "cell_type": "markdown",
   "metadata": {},
   "source": [
    "Declare tff function for server update (FedAvg)"
   ]
  },
  {
   "cell_type": "code",
   "execution_count": 43,
   "metadata": {},
   "outputs": [],
   "source": [
    "@tff.tf_computation(model_weights_type)\n",
    "def server_update_fn(mean_client_weights):\n",
    "  model = model_fn()\n",
    "  return server_update(model, mean_client_weights)"
   ]
  },
  {
   "cell_type": "markdown",
   "metadata": {},
   "source": [
    "Create federated types for server and clients"
   ]
  },
  {
   "cell_type": "code",
   "execution_count": 44,
   "metadata": {},
   "outputs": [],
   "source": [
    "federated_server_type = tff.FederatedType(model_weights_type, tff.SERVER)\n",
    "federated_dataset_type = tff.FederatedType(tf_dataset_type, tff.CLIENTS)"
   ]
  },
  {
   "cell_type": "markdown",
   "metadata": {},
   "source": [
    "Iteration function to update weights (steps 1-4)"
   ]
  },
  {
   "cell_type": "code",
   "execution_count": 45,
   "metadata": {},
   "outputs": [],
   "source": [
    "# input: datatypes\n",
    "@tff.federated_computation(federated_server_type, federated_dataset_type)\n",
    "def next_fn(server_weights, federated_dataset):\n",
    "  # Broadcast the server weights to the clients.\n",
    "  server_weights_at_client = tff.federated_broadcast(server_weights)\n",
    "\n",
    "  # Each client computes their updated weights.\n",
    "  client_weights = tff.federated_map(\n",
    "      client_update_fn, (federated_dataset, server_weights_at_client))\n",
    "  \n",
    "  # The server averages these updates.\n",
    "  mean_client_weights = tff.federated_mean(client_weights)\n",
    "\n",
    "  # The server updates its model.\n",
    "  server_weights = tff.federated_map(server_update_fn, mean_client_weights)\n",
    "\n",
    "  return server_weights"
   ]
  },
  {
   "cell_type": "markdown",
   "metadata": {},
   "source": [
    "Create a tff iterative process"
   ]
  },
  {
   "cell_type": "code",
   "execution_count": 46,
   "metadata": {},
   "outputs": [],
   "source": [
    "federated_algorithm = tff.templates.IterativeProcess(\n",
    "    initialize_fn=initialize_fn,\n",
    "    next_fn=next_fn\n",
    ")"
   ]
  },
  {
   "cell_type": "markdown",
   "metadata": {},
   "source": [
    "Create a evaluation function using keras"
   ]
  },
  {
   "cell_type": "code",
   "execution_count": 47,
   "metadata": {},
   "outputs": [],
   "source": [
    "def evaluate(server_state):\n",
    "  keras_model = create_keras_model()\n",
    "  keras_model.compile(\n",
    "      loss=tf.keras.losses.SparseCategoricalCrossentropy(),\n",
    "      metrics=[tf.keras.metrics.SparseCategoricalAccuracy()] \n",
    "  )\n",
    "  keras_model.set_weights(server_state)\n",
    "  results = keras_model.evaluate(central_emnist_test)\n",
    "  return results"
   ]
  },
  {
   "cell_type": "code",
   "execution_count": 59,
   "metadata": {},
   "outputs": [
    {
     "name": "stdout",
     "output_type": "stream",
     "text": [
      "100/100 [==============================] - 0s 2ms/step - loss: 2.9326 - sparse_categorical_accuracy: 0.1200\n",
      "100/100 [==============================] - 0s 3ms/step - loss: 3.1982 - sparse_categorical_accuracy: 0.1600\n",
      "100/100 [==============================] - 0s 2ms/step - loss: 3.2261 - sparse_categorical_accuracy: 0.1400\n",
      "100/100 [==============================] - 0s 2ms/step - loss: 3.8976 - sparse_categorical_accuracy: 0.1300\n",
      "100/100 [==============================] - 0s 2ms/step - loss: 3.4647 - sparse_categorical_accuracy: 0.1500\n"
     ]
    }
   ],
   "source": [
    "# Initialize FL model\n",
    "import pandas as pd\n",
    "server_state = federated_algorithm.initialize()\n",
    "#results_df = pd.DataFrame(evaluate(server_state))\n",
    "results_list = [evaluate(server_state)]\n",
    "\n",
    "# Perform iteration rounds for FL model \n",
    "for round in range(ROUNDS):\n",
    "  server_state = federated_algorithm.next(server_state, federated_train_data)\n",
    "  # Evaluate model test accuracy and loss every 10 rounds\n",
    "  if round % 10 == 0:\n",
    "    results_list.append(evaluate(server_state))\n",
    "\n",
    "#Evaluate final state\n",
    "results_list.append(evaluate(server_state))\n"
   ]
  },
  {
   "cell_type": "code",
   "execution_count": 71,
   "metadata": {},
   "outputs": [],
   "source": [
    "import pandas as pd\n",
    "results_df = pd.DataFrame(results_list,columns=['loss','accuracy'])"
   ]
  },
  {
   "cell_type": "markdown",
   "metadata": {},
   "source": [
    "Plot test results in graph"
   ]
  },
  {
   "cell_type": "code",
   "execution_count": 73,
   "metadata": {},
   "outputs": [
    {
     "data": {
      "text/plain": [
       "Text(0.5, 1.0, 'Accuracy')"
      ]
     },
     "execution_count": 73,
     "metadata": {},
     "output_type": "execute_result"
    },
    {
     "data": {
      "image/png": "[encoded data removed]",
      "text/plain": [
       "<Figure size 432x288 with 1 Axes>"
      ]
     },
     "metadata": {
      "needs_background": "light"
     },
     "output_type": "display_data"
    },
    {
     "data": {
      "image/png": "[encoded data removed]",
      "text/plain": [
       "<Figure size 432x288 with 1 Axes>"
      ]
     },
     "metadata": {
      "needs_background": "light"
     },
     "output_type": "display_data"
    }
   ],
   "source": [
    "fig_loss, ax_loss = pyplot.subplots()\n",
    "ax_loss.plot(results_df.loss)\n",
    "ax_loss.set_title('Loss')\n",
    "\n",
    "fig_acc, ax_acc = pyplot.subplots()\n",
    "ax_acc.plot(results_df.accuracy)\n",
    "ax_acc.set_title('Accuracy')\n"
   ]
  }
 ],
 "metadata": {
  "interpreter": {
   "hash": "916dbcbb3f70747c44a77c7bcd40155683ae19c65e1c03b4aa3499c5328201f1"
  },
  "kernelspec": {
   "display_name": "Python 3.8.10 64-bit",
   "language": "python",
   "name": "python3"
  },
  "language_info": {
   "codemirror_mode": {
    "name": "ipython",
    "version": 3
   },
   "file_extension": ".py",
   "mimetype": "text/x-python",
   "name": "python",
   "nbconvert_exporter": "python",
   "pygments_lexer": "ipython3",
   "version": "3.8.10"
  },
  "orig_nbformat": 4
 },
 "nbformat": 4,
 "nbformat_minor": 2
}
